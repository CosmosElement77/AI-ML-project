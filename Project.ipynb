{
 "cells": [
  {
   "cell_type": "code",
   "execution_count": 31,
   "metadata": {
    "metadata": {}
   },
   "outputs": [
    {
     "name": "stderr",
     "output_type": "stream",
     "text": [
      "C:\\Users\\Ryuosuke\\AppData\\Local\\Temp\\ipykernel_20200\\1533660772.py:44: SettingWithCopyWarning: \n",
      "A value is trying to be set on a copy of a slice from a DataFrame.\n",
      "Try using .loc[row_indexer,col_indexer] = value instead\n",
      "\n",
      "See the caveats in the documentation: https://pandas.pydata.org/pandas-docs/stable/user_guide/indexing.html#returning-a-view-versus-a-copy\n",
      "  new_df['tags']=new_df['tags'].apply(stem)\n"
     ]
    },
    {
     "name": "stdout",
     "output_type": "stream",
     "text": [
      "The Mummy Returns\t28-04-2001\tAdventure Action Fantasy\n",
      "Curse of the Golden Flower\t21-12-2006\tAction Drama Fantasy\n",
      "The Chronicles of Narnia: Prince Caspian\t15-05-2008\tAdventure Family Fantasy\n",
      "How to Train Your Dragon 2\t12-06-2014\tFantasy Action Adventure Animation Comedy Family\n",
      "The Adventurer: The Curse of the Midas Box\t05-12-2013\tFantasy Adventure Family\n"
     ]
    }
   ],
   "source": [
    "from Imports import *\n",
    "\n",
    "credits_df=pd.read_csv('credits.csv')\n",
    "movies_df=pd.read_csv('movies.csv')\n",
    "\n",
    "pd.set_option(\"display.max_columns\",None)\n",
    "pd.set_option(\"display.max_colwidth\" , None)\n",
    "pd.set_option(\"display.max_rows\",None)\n",
    "\n",
    "movies_df = movies_df.merge(credits_df , on='title')\n",
    "movies_df = movies_df[['movie_id' ,'genres' ,'title' ,'overview', 'tagline' , 'cast' ,'keywords' , 'release_date']]\n",
    "# movies_df.head()\n",
    "movies_df.dropna(inplace=True)\n",
    "# movies_df.info()\n",
    "\n",
    "#Using the user defined convert and convert_cast function in the Imports file\n",
    "movies_df['genres'] = movies_df['genres'].apply(convert)\n",
    "movies_df['keywords'] = movies_df['keywords'].apply(convert)\n",
    "movies_df['cast'] = movies_df['cast'].apply(convert_cast)\n",
    "\n",
    "# Using the join_b user defined function to remove the [] brackets\n",
    "movies_df['genres'] = movies_df['genres'].apply(join_b)\n",
    "movies_df['cast'] = movies_df['cast'].apply(join_b)\n",
    "movies_df['keywords'] = movies_df['keywords'].apply(join_b)\n",
    "\n",
    "movies_df['tags']=movies_df['genres'] +\" ; \" + movies_df['keywords'] +\" ; \" + movies_df['overview'] +\" ; \" + movies_df['tagline'] +\" ; \" + movies_df['cast']\n",
    "\n",
    "#making a new dataFrame for poratbility and assigining the cosine similarity (used to compare two variables)\n",
    "#Convert a collection of text documents to a matrix of token counts.\n",
    "new_df=movies_df[['movie_id','genres','title','tags','release_date']]\n",
    "cv=CountVectorizer(max_features=5000,stop_words='english')\n",
    "cv.fit_transform(new_df['tags']).toarray()\n",
    "vector_similarity=cv.fit_transform(new_df['tags']).toarray()\n",
    "vector_similarity[0]\n",
    "\n",
    "#remove suffixes from english words and obtain the stem(a part of a word common to all its variants)\n",
    "ps=PorterStemmer()\n",
    "def stem(input):\n",
    "    input_list=[]\n",
    "    for i in input.split():\n",
    "        input_list.append(ps.stem(i))\n",
    "    return \" \".join(input_list)\n",
    "\n",
    "new_df['tags']=new_df['tags'].apply(stem)\n",
    "# cosine_similarity(vector_similarity)\n",
    "Similar_Choices=cosine_similarity(vector_similarity)\n",
    "\n",
    "def recommend(movie_name ):\n",
    "    movie_index=new_df[new_df['title']==movie_name].index[0] \n",
    "    distances= Similar_Choices[movie_index]\n",
    "    movies_list =sorted(list(enumerate (distances)), reverse=True, key=lambda x:x[1]) [1:6]\n",
    "\n",
    "    for i in movies_list:\n",
    "        print(new_df.iloc[i[0]].title + \"\\t\" + new_df.iloc[i[0]].release_date +\"\\t\"+new_df.iloc[i[0]].genres) \n",
    "\n",
    "recommend(\"Iron Man\")"
   ]
  }
 ],
 "metadata": {
  "kernelspec": {
   "display_name": "Python 3",
   "language": "python",
   "name": "python3"
  },
  "language_info": {
   "codemirror_mode": {
    "name": "ipython",
    "version": 3
   },
   "file_extension": ".py",
   "mimetype": "text/x-python",
   "name": "python",
   "nbconvert_exporter": "python",
   "pygments_lexer": "ipython3",
   "version": "3.12.3"
  }
 },
 "nbformat": 4,
 "nbformat_minor": 2
}
